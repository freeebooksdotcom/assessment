{
 "cells": [
  {
   "cell_type": "code",
   "execution_count": 1,
   "metadata": {},
   "outputs": [],
   "source": [
    "import pandas as pd"
   ]
  },
  {
   "cell_type": "markdown",
   "metadata": {},
   "source": [
    "##### Is_Unique: implement an algorithm to deterime if a string has all unique characters. What if you cannot use additional data structures?"
   ]
  },
  {
   "cell_type": "code",
   "execution_count": 13,
   "metadata": {},
   "outputs": [],
   "source": [
    "def Is_Unique(word):\n",
    "    for i in range(len(word)):\n",
    "        if word[i] in word[:i] and word[i] in word[i:]:\n",
    "            return False\n",
    "    return True"
   ]
  },
  {
   "cell_type": "code",
   "execution_count": 15,
   "metadata": {},
   "outputs": [
    {
     "data": {
      "text/plain": [
       "True"
      ]
     },
     "execution_count": 15,
     "metadata": {},
     "output_type": "execute_result"
    }
   ],
   "source": [
    "Is_Unique('sandwich')"
   ]
  },
  {
   "cell_type": "markdown",
   "metadata": {},
   "source": [
    "#### Check permutation: Given two strings, write a method to decide if one is a permutation of the other"
   ]
  },
  {
   "cell_type": "code",
   "execution_count": 17,
   "metadata": {},
   "outputs": [
    {
     "data": {
      "text/plain": [
       "'sandwich'"
      ]
     },
     "execution_count": 17,
     "metadata": {},
     "output_type": "execute_result"
    }
   ],
   "source": [
    "s1='sandwich'\n",
    "s2='otto'\n",
    "max(s1,s2)"
   ]
  },
  {
   "cell_type": "code",
   "execution_count": 18,
   "metadata": {},
   "outputs": [],
   "source": [
    "def check_permutation(s1, s2):\n",
    "    long_word= max(s1,s2)\n",
    "    if len(s1)<len(s2):\n",
    "        for i in range(len(s1)):\n",
    "            if s1[i]\n",
    "        return s1 in long_word\n",
    "    else:\n",
    "        return s2 in long_word"
   ]
  },
  {
   "cell_type": "markdown",
   "metadata": {},
   "source": [
    "#### Levenshtein blog scratch pad: given two strings, x and y, what is the cheapest possible sequence of character edits to convert x to y. Character edits comprise inserting characters, deleting characters, and replacing characters."
   ]
  },
  {
   "cell_type": "code",
   "execution_count": 24,
   "metadata": {},
   "outputs": [
    {
     "data": {
      "text/plain": [
       "'h'"
      ]
     },
     "execution_count": 24,
     "metadata": {},
     "output_type": "execute_result"
    }
   ],
   "source": []
  },
  {
   "cell_type": "code",
   "execution_count": null,
   "metadata": {},
   "outputs": [],
   "source": [
    "s1='cat'\n",
    "s2='hat'"
   ]
  },
  {
   "cell_type": "code",
   "execution_count": 29,
   "metadata": {},
   "outputs": [],
   "source": [
    "def levenshtein(s1,s2):\n",
    "    costs=[]\n",
    "    for i in range(1, len(s1)+1):\n",
    "        cost=0\n",
    "        for j in range(1, len(s2)+1):\n",
    "            if s1[-i]!=s2[-j]:\n",
    "                cost+=1\n",
    "            \n",
    "            costs.append(cost)\n",
    "    return min(costs)"
   ]
  },
  {
   "cell_type": "code",
   "execution_count": 30,
   "metadata": {},
   "outputs": [
    {
     "data": {
      "text/plain": [
       "1"
      ]
     },
     "execution_count": 30,
     "metadata": {},
     "output_type": "execute_result"
    }
   ],
   "source": [
    "levenshtein(s1,s2)"
   ]
  },
  {
   "cell_type": "code",
   "execution_count": 32,
   "metadata": {},
   "outputs": [
    {
     "data": {
      "text/plain": [
       "1"
      ]
     },
     "execution_count": 32,
     "metadata": {},
     "output_type": "execute_result"
    }
   ],
   "source": [
    "s1='sand'\n",
    "s2='sandwich'\n",
    "levenshtein(s1,s2)"
   ]
  },
  {
   "cell_type": "code",
   "execution_count": 34,
   "metadata": {},
   "outputs": [
    {
     "data": {
      "text/plain": [
       "[(0, 's'),\n",
       " (1, 'a'),\n",
       " (2, 'n'),\n",
       " (3, 'd'),\n",
       " (4, 'w'),\n",
       " (5, 'i'),\n",
       " (6, 'c'),\n",
       " (7, 'h')]"
      ]
     },
     "execution_count": 34,
     "metadata": {},
     "output_type": "execute_result"
    }
   ],
   "source": [
    "list(enumerate(s2))"
   ]
  },
  {
   "cell_type": "code",
   "execution_count": 38,
   "metadata": {},
   "outputs": [],
   "source": [
    "#Final solution\n",
    "def levenshtein(s1,s2):\n",
    "    if len(s1)>len(s2):\n",
    "        s1, s2= s2, s1\n",
    "    distances=range(len(s1)+1)\n",
    "    for j in range(len(s2)):\n",
    "        distances_ = [j+1]\n",
    "        for i in range(len(s1)):\n",
    "            if s1[i] == s2[j]:\n",
    "                distances_.append(distances[i])\n",
    "            else:\n",
    "                distances_.append(1 + min((distances[i], distances[i + 1], distances_[-1])))\n",
    "        distances = distances_\n",
    "    return distances[-1]"
   ]
  },
  {
   "cell_type": "code",
   "execution_count": 49,
   "metadata": {
    "scrolled": true
   },
   "outputs": [
    {
     "data": {
      "text/plain": [
       "7"
      ]
     },
     "execution_count": 49,
     "metadata": {},
     "output_type": "execute_result"
    }
   ],
   "source": [
    "s1='automat'\n",
    "s2='pixel'\n",
    "levenshtein(s1,s2)"
   ]
  },
  {
   "cell_type": "markdown",
   "metadata": {},
   "source": [
    "s1=catastrophe\n",
    "s2=cat\n",
    "  ''catastrophe\n",
    "'' 0123456789... \n",
    "c  10123456\n",
    "a  210123\n",
    "t  321"
   ]
  },
  {
   "cell_type": "markdown",
   "metadata": {},
   "source": [
    "#### Levenshtein addenda Longest common subsequence problem.\n",
    "Hieroglyphology and Michaelangelo, what is the longest common subsequence, given that you can drop any set of letters from X or Y. Cost of an insert or delete to be one, and the cost of a replace = 0 if same, infinite if different. if  The answer by the way is ‘Hello’\n"
   ]
  },
  {
   "cell_type": "code",
   "execution_count": 50,
   "metadata": {},
   "outputs": [],
   "source": [
    "def long_seq(s1,s2):\n",
    "    if len(s1) >len(s2):\n",
    "        s1, s2 = s2, s1\n",
    "    common_seq=''\n",
    "    for j in range(len(s2)):\n",
    "        for i in range(len(s1)):\n",
    "            if s1[i]==s2[j]:\n",
    "                common_seq+=s1[i]\n",
    "    return common_seq"
   ]
  },
  {
   "cell_type": "code",
   "execution_count": 52,
   "metadata": {},
   "outputs": [
    {
     "data": {
      "text/plain": [
       "'hello'"
      ]
     },
     "execution_count": 52,
     "metadata": {},
     "output_type": "execute_result"
    }
   ],
   "source": [
    "long_seq('helo','hello')"
   ]
  },
  {
   "cell_type": "code",
   "execution_count": null,
   "metadata": {},
   "outputs": [],
   "source": []
  }
 ],
 "metadata": {
  "kernelspec": {
   "display_name": "Python 3",
   "language": "python",
   "name": "python3"
  },
  "language_info": {
   "codemirror_mode": {
    "name": "ipython",
    "version": 3
   },
   "file_extension": ".py",
   "mimetype": "text/x-python",
   "name": "python",
   "nbconvert_exporter": "python",
   "pygments_lexer": "ipython3",
   "version": "3.7.6"
  }
 },
 "nbformat": 4,
 "nbformat_minor": 4
}
